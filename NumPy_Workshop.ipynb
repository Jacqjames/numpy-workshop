{
  "cells": [
    {
      "metadata": {},
      "cell_type": "markdown",
      "source": "<p style=\"font-family: Arial; font-size:1.75em;color:green; font-style:bold\"><br>Jupyter Notebooks</p>"
    },
    {
      "metadata": {
        "trusted": true
      },
      "cell_type": "code",
      "source": "",
      "execution_count": null,
      "outputs": []
    },
    {
      "metadata": {},
      "cell_type": "markdown",
      "source": "<p style=\"font-family: Arial; font-size:4.75em;color:purple; font-style:bold\"><br>\nData ANALYSIS USING NumPy</p><br>"
    },
    {
      "metadata": {},
      "cell_type": "markdown",
      "source": "Import numpy into the notebook"
    },
    {
      "metadata": {
        "trusted": true
      },
      "cell_type": "code",
      "source": "",
      "execution_count": null,
      "outputs": []
    },
    {
      "metadata": {},
      "cell_type": "markdown",
      "source": "To display NumPy's built-in documentation"
    },
    {
      "metadata": {
        "trusted": true
      },
      "cell_type": "code",
      "source": "",
      "execution_count": null,
      "outputs": []
    },
    {
      "metadata": {},
      "cell_type": "markdown",
      "source": "To display all the contents of the numpy namespace"
    },
    {
      "metadata": {
        "trusted": true
      },
      "cell_type": "code",
      "source": "",
      "execution_count": null,
      "outputs": []
    },
    {
      "metadata": {},
      "cell_type": "markdown",
      "source": "Create python array and NumPy array"
    },
    {
      "metadata": {
        "trusted": true
      },
      "cell_type": "code",
      "source": "# Python array in the form of lists\n\n\n# NumPy array\n\n",
      "execution_count": null,
      "outputs": []
    },
    {
      "metadata": {},
      "cell_type": "markdown",
      "source": "Print python and NumPy arrays"
    },
    {
      "metadata": {
        "trusted": true
      },
      "cell_type": "code",
      "source": "",
      "execution_count": null,
      "outputs": []
    },
    {
      "metadata": {},
      "cell_type": "markdown",
      "source": "What is the difference?"
    },
    {
      "metadata": {},
      "cell_type": "markdown",
      "source": "<p style=\"font-family: Arial;font-size:3em;color:\t#4169E1; font-style:bold\"><br>NumPy Standard Data Types</p><br>\nNumPy is constrained to arrays that all contain the same type."
    },
    {
      "metadata": {
        "trusted": true
      },
      "cell_type": "code",
      "source": "np.array([3.14, 4, 2, 5])",
      "execution_count": null,
      "outputs": []
    },
    {
      "metadata": {
        "trusted": true
      },
      "cell_type": "code",
      "source": "np.array([3.14, 4, 2,\"5\"])",
      "execution_count": null,
      "outputs": []
    },
    {
      "metadata": {
        "trusted": true
      },
      "cell_type": "code",
      "source": "np.array([3.14, 4, 2,\"5\"], dtype='float32')",
      "execution_count": null,
      "outputs": []
    },
    {
      "metadata": {
        "trusted": true
      },
      "cell_type": "code",
      "source": "np.array([3.14, 4, 2, 5], dtype='int')",
      "execution_count": null,
      "outputs": []
    },
    {
      "metadata": {
        "trusted": true
      },
      "cell_type": "code",
      "source": "# Can also use associated NumPy object\nnp.array([10, 10, 10], dtype=np.int16)",
      "execution_count": null,
      "outputs": []
    },
    {
      "metadata": {},
      "cell_type": "raw",
      "source": "# Data type\tDescription\nbool_\t    Boolean (True or False) stored as a byte\nint_\t    Default integer type (same as C long; normally either int64 or int32)\nintc\t    Identical to C int (normally int32 or int64)\nintp\t    Integer used for indexing (same as C ssize_t; normally either int32 or int64)\nint8\t    Byte (-128 to 127)\nint16\t    Integer (-32768 to 32767)\nint32\t    Integer (-2147483648 to 2147483647)\nint64\t    Integer (-9223372036854775808 to 9223372036854775807)\nuint8\t    Unsigned integer (0 to 255)\nuint16\t    Unsigned integer (0 to 65535)\nuint32\t    Unsigned integer (0 to 4294967295)\nuint64\t    Unsigned integer (0 to 18446744073709551615)\nfloat_\t    Shorthand for float64.\nfloat16   \tHalf precision float: sign bit, 5 bits exponent, 10 bits mantissa\nfloat32 \tSingle precision float: sign bit, 8 bits exponent, 23 bits mantissa\nfloat64\t    Double precision float: sign bit, 11 bits exponent, 52 bits mantissa\ncomplex_\tShorthand for complex128.\ncomplex64\tComplex number, represented by two 32-bit floats\ncomplex128\tComplex number, represented by two 64-bit floats"
    },
    {
      "metadata": {},
      "cell_type": "markdown",
      "source": "<p style=\"font-family: Arial;font-size:3em;color:#4169E1; font-style:bold\"><br>NumPy Array Creation Methods</p><br>"
    },
    {
      "metadata": {
        "trusted": true
      },
      "cell_type": "code",
      "source": "# Create a 1D integer array filled with zeros of length-15\nnp.zeros(15, dtype=int)",
      "execution_count": null,
      "outputs": []
    },
    {
      "metadata": {
        "trusted": true
      },
      "cell_type": "code",
      "source": "# Create a 4x9 floating-point array filled with ones\nnp.ones((4, 9), dtype=float)",
      "execution_count": null,
      "outputs": []
    },
    {
      "metadata": {
        "trusted": true
      },
      "cell_type": "code",
      "source": "# Create a 3x5 array filled with 9.81\nnp.full((3, 5), 9.81)",
      "execution_count": null,
      "outputs": []
    },
    {
      "metadata": {
        "trusted": true
      },
      "cell_type": "code",
      "source": "# Create a 5x5 array of uniformly distributed\n# random values between 0 and 1\nnp.random.random((5, 5))",
      "execution_count": null,
      "outputs": []
    },
    {
      "metadata": {
        "trusted": true
      },
      "cell_type": "code",
      "source": "# Create a 3x5 array of normally distributed random values\n# with mean 0 and standard deviation 1\nnp.random.normal(0, 1, (3, 5))",
      "execution_count": null,
      "outputs": []
    },
    {
      "metadata": {
        "trusted": true
      },
      "cell_type": "code",
      "source": "# Create a 4x4 array of random integers in the interval [0, 20)\nnp.random.randint(0, 20, (4, 4))",
      "execution_count": null,
      "outputs": []
    },
    {
      "metadata": {
        "trusted": true
      },
      "cell_type": "code",
      "source": "# Create an array of ten values evenly spaced between 0 and 5\nnp.linspace(0, 5, 10)",
      "execution_count": null,
      "outputs": []
    },
    {
      "metadata": {
        "trusted": true
      },
      "cell_type": "code",
      "source": "# Create an array filled with a linear sequence\n# Starting at 5, ending at 60, stepping by 2\nnp.arange(5, 60, 2)",
      "execution_count": null,
      "outputs": []
    },
    {
      "metadata": {
        "trusted": true
      },
      "cell_type": "code",
      "source": "# Built-in documentation\nnp.arange",
      "execution_count": null,
      "outputs": []
    },
    {
      "metadata": {
        "trusted": true
      },
      "cell_type": "code",
      "source": "# Create a 3x3 identity matrix\nnp.eye(3)",
      "execution_count": null,
      "outputs": []
    },
    {
      "metadata": {
        "trusted": true
      },
      "cell_type": "code",
      "source": "# Create an uninitialized array of three integers\n# The values will be whatever happens to already exist at that memory location\nnp.empty(8)",
      "execution_count": null,
      "outputs": []
    },
    {
      "metadata": {},
      "cell_type": "markdown",
      "source": "<p style=\"font-family: Arial;font-size:3em;color:#4169E1; font-style:bold\"><br>Using NumPy to Read in files</p><br>"
    },
    {
      "metadata": {
        "trusted": true
      },
      "cell_type": "code",
      "source": "# load dataset\n",
      "execution_count": null,
      "outputs": []
    },
    {
      "metadata": {
        "trusted": true
      },
      "cell_type": "code",
      "source": "# print dataset",
      "execution_count": null,
      "outputs": []
    },
    {
      "metadata": {
        "trusted": true
      },
      "cell_type": "code",
      "source": "# use the shape property of NumPy arrays to check the number of rows and number of columns",
      "execution_count": null,
      "outputs": []
    },
    {
      "metadata": {
        "trusted": true
      },
      "cell_type": "code",
      "source": "# use of np.genfromtxt",
      "execution_count": null,
      "outputs": []
    },
    {
      "metadata": {
        "trusted": true
      },
      "cell_type": "code",
      "source": "# unpack parameter",
      "execution_count": null,
      "outputs": []
    },
    {
      "metadata": {},
      "cell_type": "markdown",
      "source": "<p style=\"font-family: Arial;font-size:3em;color:#4169E1; font-style:bold\"><br>INDEXING and SLICING: Heart of NumPy</p><br>"
    },
    {
      "metadata": {},
      "cell_type": "markdown",
      "source": "<p style=\"font-family: Arial;font-size:2em;color:#DC143C; font-style:bold\"><br>Indexing NumPy arrays</p><br>"
    },
    {
      "metadata": {
        "trusted": true
      },
      "cell_type": "code",
      "source": "# To select individual element\n",
      "execution_count": null,
      "outputs": []
    },
    {
      "metadata": {
        "trusted": true
      },
      "cell_type": "code",
      "source": "# values can be modified\n",
      "execution_count": null,
      "outputs": []
    },
    {
      "metadata": {},
      "cell_type": "markdown",
      "source": "<p style=\"font-family: Arial;font-size:2em;color:#DC143C; font-style:bold\"><br>Slicing NumPy Arrays</p><br>"
    },
    {
      "metadata": {},
      "cell_type": "markdown",
      "source": "data[start:stop:step]\n\nDEFAULT VALUES (if unspecified):\n\nstart=0\n\nstop=size of dimension\n\nstep=1"
    },
    {
      "metadata": {
        "trusted": true
      },
      "cell_type": "code",
      "source": "# first three rows\n",
      "execution_count": null,
      "outputs": []
    },
    {
      "metadata": {
        "trusted": true
      },
      "cell_type": "code",
      "source": "# first three rows and 3 columns\n",
      "execution_count": null,
      "outputs": []
    },
    {
      "metadata": {
        "trusted": true
      },
      "cell_type": "code",
      "source": "# first three rows and every other column\n",
      "execution_count": null,
      "outputs": []
    },
    {
      "metadata": {},
      "cell_type": "markdown",
      "source": "<p style=\"font-family: Arial;font-size:2em;color:#DC143C; font-style:bold\"><br>Boolean Indexing</p><br>"
    },
    {
      "metadata": {
        "trusted": true
      },
      "cell_type": "code",
      "source": "# save the header of the dataset in a numpy array named as \"cars_data_header\" using load.txt\n\n# print",
      "execution_count": null,
      "outputs": []
    },
    {
      "metadata": {
        "trusted": true
      },
      "cell_type": "code",
      "source": "# Create a numpy array named as \"horsepower_slice\" and save the horsepower values from cars dataset in it\n\n# print horsepower_slice",
      "execution_count": null,
      "outputs": []
    },
    {
      "metadata": {
        "trusted": true
      },
      "cell_type": "code",
      "source": "# Create a filter which will be boolean values for whether each element meet a specific condition\n# Create a fiter for horsepower values greater than 140",
      "execution_count": null,
      "outputs": []
    },
    {
      "metadata": {
        "trusted": true
      },
      "cell_type": "code",
      "source": "# the filter is of the same size and array of the original ndarray and for each element it has either true or false\n# print shape of filter\n\n",
      "execution_count": null,
      "outputs": []
    },
    {
      "metadata": {
        "trusted": true
      },
      "cell_type": "code",
      "source": "# print size of original array\n",
      "execution_count": null,
      "outputs": []
    },
    {
      "metadata": {
        "trusted": true
      },
      "cell_type": "code",
      "source": "# print filter\n",
      "execution_count": null,
      "outputs": []
    },
    {
      "metadata": {
        "trusted": true
      },
      "cell_type": "code",
      "source": "# use the filter as indices to the larger array asking for those values for which the filter is true\n# Create a numpy array \"cars_names\" and store in it the names of the cars from the cars dataset using load.txt\n\n# print cars_names",
      "execution_count": null,
      "outputs": []
    },
    {
      "metadata": {
        "trusted": true
      },
      "cell_type": "code",
      "source": "# Apply filter to print all the car names with horsepower greater than 140\n",
      "execution_count": null,
      "outputs": []
    },
    {
      "metadata": {
        "trusted": true
      },
      "cell_type": "code",
      "source": "# All the above steps can be performed in one step\n",
      "execution_count": null,
      "outputs": []
    },
    {
      "metadata": {
        "trusted": true
      },
      "cell_type": "code",
      "source": "# Apply filter for range of values\n# Select car names with horsepower between 140 and 150 (both inclusive)\n",
      "execution_count": null,
      "outputs": []
    },
    {
      "metadata": {
        "trusted": true
      },
      "cell_type": "code",
      "source": "# Most USEFUL: change elements in the array by applying a similar logic filter\n# Change the car names to \"GOLD\", which have horsepower between 140 and 150 (both inclusive)",
      "execution_count": null,
      "outputs": []
    },
    {
      "metadata": {
        "trusted": true
      },
      "cell_type": "code",
      "source": "# print car names",
      "execution_count": null,
      "outputs": []
    },
    {
      "metadata": {},
      "cell_type": "markdown",
      "source": "<p style=\"font-family: Arial;font-size:3em;color:#4169E1; font-style:bold\"><br>Exploring NumPy's Functions</p><br>"
    },
    {
      "metadata": {},
      "cell_type": "markdown",
      "source": "<p style=\"font-family: Arial;font-size:2em;color:#DC143C; font-style:bold\"><br>Creating copies of Arrays</p><br>"
    },
    {
      "metadata": {
        "trusted": true
      },
      "cell_type": "code",
      "source": "# Select name of cars in the dataset\ncars_names = np.loadtxt(\"cars.csv\", delimiter=\",\",dtype='str',usecols=[0],skiprows=1)",
      "execution_count": null,
      "outputs": []
    },
    {
      "metadata": {
        "trusted": true
      },
      "cell_type": "code",
      "source": "# Copy numpy array\ncars_names_copy=cars_names.copy()",
      "execution_count": null,
      "outputs": []
    },
    {
      "metadata": {
        "trusted": true
      },
      "cell_type": "code",
      "source": "# Apply filter\ncars_names_copy[(horsepower_slice>140) & (horsepower_slice<=150)] =\"GOLD\"",
      "execution_count": null,
      "outputs": []
    },
    {
      "metadata": {
        "trusted": true
      },
      "cell_type": "code",
      "source": "# print copied and original array\nprint(cars_names_copy)\nprint()\nprint(cars_names)",
      "execution_count": null,
      "outputs": []
    },
    {
      "metadata": {},
      "cell_type": "markdown",
      "source": "<p style=\"font-family: Arial;font-size:2em;color:#DC143C; font-style:bold\"><br>BASIC STATISTICAL OPERATORS</p><br>"
    },
    {
      "metadata": {
        "trusted": true
      },
      "cell_type": "code",
      "source": "# compute the mean\nprint(horsepower_slice.mean())",
      "execution_count": null,
      "outputs": []
    },
    {
      "metadata": {
        "trusted": true
      },
      "cell_type": "code",
      "source": "# compute the means by column\nprint(cars_data.mean(axis=0)) \n\n# compute the means by row\nprint(cars_data[:8].mean(axis=1)) ",
      "execution_count": null,
      "outputs": []
    },
    {
      "metadata": {
        "trusted": true
      },
      "cell_type": "code",
      "source": "# sum all the elements\nprint(horsepower_slice.sum())",
      "execution_count": null,
      "outputs": []
    },
    {
      "metadata": {
        "trusted": true
      },
      "cell_type": "code",
      "source": "# Standard deviation\nprint(np.std(cars_data,axis=0))",
      "execution_count": null,
      "outputs": []
    },
    {
      "metadata": {
        "trusted": true
      },
      "cell_type": "code",
      "source": "# Variance\nprint(np.var(cars_data,axis=0))",
      "execution_count": null,
      "outputs": []
    },
    {
      "metadata": {},
      "cell_type": "markdown",
      "source": "<p style=\"font-family: Arial;font-size:2em;color:#DC143C; font-style:bold\"><br>SORTING</p><br>"
    },
    {
      "metadata": {
        "trusted": true
      },
      "cell_type": "code",
      "source": "cars_data = np.loadtxt(\"cars.csv\", delimiter=\",\",skiprows=1,usecols=[1,2,3,4,5,6,7,8,9])\nhorsepower_slice=cars_data[:,3]\nprint(horsepower_slice)",
      "execution_count": 2,
      "outputs": [
        {
          "output_type": "stream",
          "text": "[110. 110.  93. 110. 175. 105. 245.  62.  95. 123. 123. 180. 180. 180.\n 205. 215. 230.  66.  52.  65.  97. 150. 150. 245. 175.  66.  91. 113.\n 264. 175. 335. 109.]\n",
          "name": "stdout"
        }
      ]
    },
    {
      "metadata": {
        "trusted": true
      },
      "cell_type": "code",
      "source": "# inplace sorting",
      "execution_count": null,
      "outputs": []
    },
    {
      "metadata": {
        "trusted": true
      },
      "cell_type": "code",
      "source": "# Create copy and sort\ncars_data = np.loadtxt(\"cars.csv\", delimiter=\",\",skiprows=1,usecols=[1,2,3,4,5,6,7,8,9])\nhorsepower_slice=cars_data[:,3]",
      "execution_count": null,
      "outputs": []
    },
    {
      "metadata": {},
      "cell_type": "markdown",
      "source": "<p style=\"font-family: Arial;font-size:2em;color:#DC143C; font-style:bold\"><br>ARITHMETIC OPERATIONS</p><br>"
    },
    {
      "metadata": {
        "trusted": true
      },
      "cell_type": "code",
      "source": "x=np.array([[351,128],[111,777]], dtype=np.int)\ny=np.array([[400.8,261],[35.9,555]], dtype=np.float64)",
      "execution_count": null,
      "outputs": []
    },
    {
      "metadata": {
        "trusted": true
      },
      "cell_type": "code",
      "source": "print(x)\nprint()\nprint(y)",
      "execution_count": null,
      "outputs": []
    },
    {
      "metadata": {
        "trusted": true
      },
      "cell_type": "code",
      "source": "# add\nprint(x + y) # either use + sign\nprint()\nprint(np.add(x,y)) # or numpy function \"add\"",
      "execution_count": null,
      "outputs": []
    },
    {
      "metadata": {
        "trusted": true
      },
      "cell_type": "code",
      "source": "# subtract\nprint(x - y) \nprint()\nprint(np.subtract(x,y)) ",
      "execution_count": null,
      "outputs": []
    },
    {
      "metadata": {
        "trusted": true
      },
      "cell_type": "code",
      "source": "# multiply\nprint(x * y) \nprint()\nprint(np.multiply(x,y)) ",
      "execution_count": null,
      "outputs": []
    },
    {
      "metadata": {
        "trusted": true
      },
      "cell_type": "code",
      "source": "# divide\nprint(x / y) \nprint()\nprint(np.divide(x,y)) ",
      "execution_count": null,
      "outputs": []
    },
    {
      "metadata": {
        "trusted": true
      },
      "cell_type": "code",
      "source": "# square root\nprint(np.sqrt(y))",
      "execution_count": null,
      "outputs": []
    },
    {
      "metadata": {
        "trusted": true
      },
      "cell_type": "code",
      "source": "# exponent e ** x\nprint(np.exp(y))",
      "execution_count": null,
      "outputs": []
    },
    {
      "metadata": {
        "trusted": true
      },
      "cell_type": "code",
      "source": "# power \nprint(np.power(y,3))",
      "execution_count": null,
      "outputs": []
    },
    {
      "metadata": {
        "trusted": true
      },
      "cell_type": "code",
      "source": "# modulus\nprint(np.mod(x,5))",
      "execution_count": null,
      "outputs": []
    },
    {
      "metadata": {
        "trusted": true
      },
      "cell_type": "code",
      "source": "# logarithms\nprint(np.log(x))\nprint()\nprint(np.log2(x))\nprint()\nprint(np.log10(x))",
      "execution_count": null,
      "outputs": []
    },
    {
      "metadata": {
        "trusted": true
      },
      "cell_type": "code",
      "source": "# Trigonometric\ntheta = np.linspace(0, np.pi, 3)\n\nprint(\"theta      = \", theta)\nprint(\"sin(theta) = \", np.sin(theta))\nprint(\"cos(theta) = \", np.cos(theta))\nprint(\"tan(theta) = \", np.tan(theta))",
      "execution_count": null,
      "outputs": []
    },
    {
      "metadata": {},
      "cell_type": "markdown",
      "source": "<p style=\"font-family: Arial;font-size:3em;color:#4169E1; font-style:bold\"><br>Speed Comparison : ndarrays vs lists</p><br>"
    },
    {
      "metadata": {
        "trusted": true
      },
      "cell_type": "code",
      "source": "size=1000000\n# create the ndarray with values 0,1,2...,size-1\ns_nd_array = np.arange(size)",
      "execution_count": null,
      "outputs": []
    },
    {
      "metadata": {
        "trusted": true
      },
      "cell_type": "code",
      "source": "# create the list with values 0,1,2...,size-1\ns_list = list(range(size))",
      "execution_count": null,
      "outputs": []
    },
    {
      "metadata": {
        "trusted": true
      },
      "cell_type": "code",
      "source": "%timeit s_nd_array.sum()",
      "execution_count": null,
      "outputs": []
    },
    {
      "metadata": {
        "trusted": true
      },
      "cell_type": "code",
      "source": "%timeit sum(s_list)",
      "execution_count": null,
      "outputs": []
    },
    {
      "metadata": {},
      "cell_type": "markdown",
      "source": "<p style=\"font-family: Arial;font-size:3em;color:#4169E1; font-style:bold\"><br>IMAGE DATA ANALYSIS using NumPy</p><br>"
    },
    {
      "metadata": {
        "trusted": true
      },
      "cell_type": "code",
      "source": "# Loading the libraries we need\nimport numpy as np\nimport imageio\nimport matplotlib.pyplot as plt",
      "execution_count": null,
      "outputs": []
    },
    {
      "metadata": {
        "trusted": true
      },
      "cell_type": "code",
      "source": "# Creating an array from image file\nimage_data = imageio.imread('galaxy_nasa.jpg')",
      "execution_count": null,
      "outputs": []
    },
    {
      "metadata": {
        "trusted": true
      },
      "cell_type": "code",
      "source": "# See the image\nplt.figure(figsize=(15,15))\nplt.imshow(image_data)",
      "execution_count": null,
      "outputs": []
    },
    {
      "metadata": {
        "trusted": true
      },
      "cell_type": "code",
      "source": "# Image data shape\nimage_data.shape",
      "execution_count": null,
      "outputs": []
    },
    {
      "metadata": {
        "trusted": true
      },
      "cell_type": "code",
      "source": "# print image data\nprint(image_data)",
      "execution_count": null,
      "outputs": []
    },
    {
      "metadata": {},
      "cell_type": "markdown",
      "source": "<ul>\n<li><p style=\"font-family: Arial; font-size:1.75em;color:red; font-style:bold\">\nRED pixel indicates Altitude</p>\n<li><p style=\"font-family: Arial; font-size:1.75em;color:blue; font-style:bold\">\nBLUE pixel indicates Aspect\n</p>\n<li><p style=\"font-family: Arial; font-size:1.75em;color:green; font-style:bold\">\nGREEN pixel indicates Slope\n</p>\n</ul>\n<br>"
    },
    {
      "metadata": {
        "trusted": true
      },
      "cell_type": "code",
      "source": "# Image data size\nimage_data.size",
      "execution_count": null,
      "outputs": []
    },
    {
      "metadata": {
        "trusted": true
      },
      "cell_type": "code",
      "source": "# Min and Max values\nimage_data.min(), image_data.max()",
      "execution_count": null,
      "outputs": []
    },
    {
      "metadata": {
        "trusted": true
      },
      "cell_type": "code",
      "source": "# mean pixel value\nimage_data.mean()",
      "execution_count": null,
      "outputs": []
    },
    {
      "metadata": {},
      "cell_type": "markdown",
      "source": "<p style=\"font-family: Arial;font-size:2em;color:#DC143C; font-style:bold\"><br>Changing Colors in a Range</p><br>"
    },
    {
      "metadata": {
        "trusted": true
      },
      "cell_type": "code",
      "source": "# Use slicing to change the blue pixel valu to full intensity for rows 150 to 500\nimage_data = imageio.imread('galaxy_nasa.jpg')\nimage_data[150:500, : ,2] = 255\nplt.figure(figsize=(10,10))\nplt.imshow(image_data)",
      "execution_count": null,
      "outputs": []
    },
    {
      "metadata": {
        "trusted": true
      },
      "cell_type": "code",
      "source": "# Use slicing to change the rows from 150 to 500 to white colour\nimage_data = imageio.imread('galaxy_nasa.jpg')\n# type here\n\nplt.figure(figsize=(10,10))\nplt.imshow(image_data)",
      "execution_count": null,
      "outputs": []
    },
    {
      "metadata": {},
      "cell_type": "markdown",
      "source": "<p style=\"font-family: Arial;font-size:2em;color:#DC143C; font-style:bold\"><br>Processing of Red Pixels</p><br>"
    },
    {
      "metadata": {
        "trusted": true
      },
      "cell_type": "code",
      "source": "image_data = imageio.imread('galaxy_nasa.jpg')\nred_mask   = image_data[:, : ,0] < 150\nimage_data[red_mask] = 0\nplt.figure(figsize=(10,10))\nplt.imshow(image_data)",
      "execution_count": null,
      "outputs": []
    }
  ],
  "metadata": {
    "kernelspec": {
      "name": "python36",
      "display_name": "Python 3.6",
      "language": "python"
    },
    "language_info": {
      "mimetype": "text/x-python",
      "nbconvert_exporter": "python",
      "name": "python",
      "pygments_lexer": "ipython3",
      "version": "3.6.6",
      "file_extension": ".py",
      "codemirror_mode": {
        "version": 3,
        "name": "ipython"
      }
    }
  },
  "nbformat": 4,
  "nbformat_minor": 1
}